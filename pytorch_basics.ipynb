{
  "nbformat": 4,
  "nbformat_minor": 0,
  "metadata": {
    "colab": {
      "name": "udacity pytorch.ipynb",
      "provenance": [],
      "include_colab_link": true
    },
    "kernelspec": {
      "name": "python3",
      "display_name": "Python 3"
    },
    "accelerator": "GPU"
  },
  "cells": [
    {
      "cell_type": "markdown",
      "metadata": {
        "id": "view-in-github",
        "colab_type": "text"
      },
      "source": [
        "<a href=\"https://colab.research.google.com/github/jiten-p14/A_Guide_to_Running_Tensorflow_Models_on_Android/blob/master/pytorch_basics.ipynb\" target=\"_parent\"><img src=\"https://colab.research.google.com/assets/colab-badge.svg\" alt=\"Open In Colab\"/></a>"
      ]
    },
    {
      "cell_type": "code",
      "metadata": {
        "id": "yViblkPzZuoQ",
        "colab_type": "code",
        "colab": {}
      },
      "source": [
        "import torch\n",
        "import numpy as np"
      ],
      "execution_count": 0,
      "outputs": []
    },
    {
      "cell_type": "code",
      "metadata": {
        "id": "CD0YIoKPZ7Ob",
        "colab_type": "code",
        "colab": {}
      },
      "source": [
        "def activation(x):\n",
        "  return 1/(1+torch.exp(-x))"
      ],
      "execution_count": 0,
      "outputs": []
    },
    {
      "cell_type": "code",
      "metadata": {
        "id": "G3nTv5zNaKXc",
        "colab_type": "code",
        "colab": {}
      },
      "source": [
        "##Generate some data\n",
        "torch.manual_seed(7) #set the random seed so things are predictable\n",
        "\n",
        "#Feature are 5 random normal variables\n",
        "features = torch.randn(1, 5)\n",
        "#true wieghts for our data, random variable again\n",
        "weights = torch.randn_like(features)\n",
        "#and a true bias term\n",
        "bias = torch.randn((1, 1))"
      ],
      "execution_count": 0,
      "outputs": []
    },
    {
      "cell_type": "code",
      "metadata": {
        "id": "0-N_vHBobGms",
        "colab_type": "code",
        "colab": {
          "base_uri": "https://localhost:8080/",
          "height": 34
        },
        "outputId": "874f07ea-e0c7-46c3-a9d6-2aa270279b70"
      },
      "source": [
        "#solution\n",
        "y = activation(torch.sum(features * weights) + bias)\n",
        "print(y)"
      ],
      "execution_count": 4,
      "outputs": [
        {
          "output_type": "stream",
          "text": [
            "tensor([[0.1595]])\n"
          ],
          "name": "stdout"
        }
      ]
    },
    {
      "cell_type": "code",
      "metadata": {
        "id": "nZ2swlVsbbzx",
        "colab_type": "code",
        "colab": {
          "base_uri": "https://localhost:8080/",
          "height": 34
        },
        "outputId": "5e6e6529-574b-48fe-e6e6-e1f07060fdfd"
      },
      "source": [
        "weights = weights.view(5, 1)\n",
        "ym = activation(torch.mm(features, weights) + bias)\n",
        "print(ym)"
      ],
      "execution_count": 7,
      "outputs": [
        {
          "output_type": "stream",
          "text": [
            "tensor([[0.1595]])\n"
          ],
          "name": "stdout"
        }
      ]
    },
    {
      "cell_type": "code",
      "metadata": {
        "id": "qLdTvgoaclKv",
        "colab_type": "code",
        "colab": {}
      },
      "source": [
        "#example with hidden layers\n",
        "##Generate some data\n",
        "torch.manual_seed(7) #set the random seed so things are predictable\n",
        "\n",
        "#Feature are 3 random normal variables\n",
        "features = torch.randn((1, 3))\n",
        "\n",
        "#define the size of each layer in our network\n",
        "n_inputs = features.shape[1] #Number of input units, must watch number of input features\n",
        "n_hidden = 2                 #Number of hidden layers \n",
        "n_output = 1                 #Number of output layers\n",
        "\n",
        "#weights of inputs to hidden layers\n",
        "w1 = torch.randn(n_inputs, n_hidden)\n",
        "#Weights of inputs to output layers\n",
        "w2 = torch.randn(n_hidden, n_output)\n",
        "\n",
        "#and bias terms for hidden and output layers\n",
        "B1 = torch.randn((1, n_hidden))\n",
        "B2 = torch.randn((1, n_output))"
      ],
      "execution_count": 0,
      "outputs": []
    },
    {
      "cell_type": "code",
      "metadata": {
        "id": "LqSl9ykie6vq",
        "colab_type": "code",
        "colab": {
          "base_uri": "https://localhost:8080/",
          "height": 34
        },
        "outputId": "3df058db-43f7-45b5-ba09-5c4825a63cd3"
      },
      "source": [
        "#solution\n",
        "h = activation(torch.mm(features, w1) + B1)\n",
        "output = activation(torch.mm(h, w2) + B2)\n",
        "print(output)"
      ],
      "execution_count": 16,
      "outputs": [
        {
          "output_type": "stream",
          "text": [
            "tensor([[0.3171]])\n"
          ],
          "name": "stdout"
        }
      ]
    },
    {
      "cell_type": "code",
      "metadata": {
        "id": "GQzD9yseffi4",
        "colab_type": "code",
        "colab": {
          "base_uri": "https://localhost:8080/",
          "height": 85
        },
        "outputId": "ecd567d2-85f5-49c8-9df0-4e08befc3e92"
      },
      "source": [
        "#Numpy to Torch and back\n",
        "a = np.random.rand(4, 3)\n",
        "a"
      ],
      "execution_count": 19,
      "outputs": [
        {
          "output_type": "execute_result",
          "data": {
            "text/plain": [
              "array([[0.17630986, 0.26056779, 0.66111429],\n",
              "       [0.91580259, 0.52933085, 0.5894325 ],\n",
              "       [0.90691957, 0.82928285, 0.97077456],\n",
              "       [0.60524439, 0.92903578, 0.19563872]])"
            ]
          },
          "metadata": {
            "tags": []
          },
          "execution_count": 19
        }
      ]
    },
    {
      "cell_type": "code",
      "metadata": {
        "id": "FelrMtSHg54k",
        "colab_type": "code",
        "colab": {
          "base_uri": "https://localhost:8080/",
          "height": 85
        },
        "outputId": "14cdeb23-d6ae-4db2-d6bd-c213f64d5050"
      },
      "source": [
        "b = torch.from_numpy(a)\n",
        "b"
      ],
      "execution_count": 20,
      "outputs": [
        {
          "output_type": "execute_result",
          "data": {
            "text/plain": [
              "tensor([[0.1763, 0.2606, 0.6611],\n",
              "        [0.9158, 0.5293, 0.5894],\n",
              "        [0.9069, 0.8293, 0.9708],\n",
              "        [0.6052, 0.9290, 0.1956]], dtype=torch.float64)"
            ]
          },
          "metadata": {
            "tags": []
          },
          "execution_count": 20
        }
      ]
    },
    {
      "cell_type": "code",
      "metadata": {
        "id": "i2-i00f1hHYA",
        "colab_type": "code",
        "colab": {
          "base_uri": "https://localhost:8080/",
          "height": 85
        },
        "outputId": "b997bc53-b893-4f57-ffb0-5f4e298d9eaf"
      },
      "source": [
        "b.numpy()"
      ],
      "execution_count": 22,
      "outputs": [
        {
          "output_type": "execute_result",
          "data": {
            "text/plain": [
              "array([[0.17630986, 0.26056779, 0.66111429],\n",
              "       [0.91580259, 0.52933085, 0.5894325 ],\n",
              "       [0.90691957, 0.82928285, 0.97077456],\n",
              "       [0.60524439, 0.92903578, 0.19563872]])"
            ]
          },
          "metadata": {
            "tags": []
          },
          "execution_count": 22
        }
      ]
    },
    {
      "cell_type": "code",
      "metadata": {
        "id": "A__w2Y7qhwHj",
        "colab_type": "code",
        "colab": {
          "base_uri": "https://localhost:8080/",
          "height": 85
        },
        "outputId": "04453010-23c8-49b0-9a4f-b95f20b5cd8d"
      },
      "source": [
        "#Multiply Pytorch Tensor by 2, in place\n",
        "b.mul_(2)"
      ],
      "execution_count": 23,
      "outputs": [
        {
          "output_type": "execute_result",
          "data": {
            "text/plain": [
              "tensor([[0.3526, 0.5211, 1.3222],\n",
              "        [1.8316, 1.0587, 1.1789],\n",
              "        [1.8138, 1.6586, 1.9415],\n",
              "        [1.2105, 1.8581, 0.3913]], dtype=torch.float64)"
            ]
          },
          "metadata": {
            "tags": []
          },
          "execution_count": 23
        }
      ]
    },
    {
      "cell_type": "code",
      "metadata": {
        "id": "GqZHMS9xiDls",
        "colab_type": "code",
        "colab": {
          "base_uri": "https://localhost:8080/",
          "height": 85
        },
        "outputId": "1199f352-88b9-4867-d926-6bf6ae4a7c45"
      },
      "source": [
        "#numpy array matches new values from Tensor\n",
        "a"
      ],
      "execution_count": 24,
      "outputs": [
        {
          "output_type": "execute_result",
          "data": {
            "text/plain": [
              "array([[0.35261973, 0.52113558, 1.32222859],\n",
              "       [1.83160518, 1.0586617 , 1.17886499],\n",
              "       [1.81383915, 1.6585657 , 1.94154912],\n",
              "       [1.21048878, 1.85807156, 0.39127744]])"
            ]
          },
          "metadata": {
            "tags": []
          },
          "execution_count": 24
        }
      ]
    },
    {
      "cell_type": "code",
      "metadata": {
        "id": "bgYu_tXIiLqY",
        "colab_type": "code",
        "colab": {}
      },
      "source": [
        ""
      ],
      "execution_count": 0,
      "outputs": []
    }
  ]
}